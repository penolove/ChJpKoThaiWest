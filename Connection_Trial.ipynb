{
 "cells": [
  {
   "cell_type": "code",
   "execution_count": 1,
   "metadata": {},
   "outputs": [],
   "source": [
    "import psycopg2\n",
    "#connect to pg\n",
    "conn = psycopg2.connect(\"dbname='foodmining' user='' host='' password=''\")\n",
    "import pandas.io.sql as psql"
   ]
  },
  {
   "cell_type": "markdown",
   "metadata": {},
   "source": [
    "## ArticleScoreTable Example"
   ]
  },
  {
   "cell_type": "code",
   "execution_count": 18,
   "metadata": {},
   "outputs": [
    {
     "data": {
      "text/plain": [
       "(354, 8)"
      ]
     },
     "execution_count": 18,
     "metadata": {},
     "output_type": "execute_result"
    }
   ],
   "source": [
    "dataframe = psql.read_sql(\"SELECT * FROM ArticleScoreTable\", conn)\n",
    "dataframe.shape"
   ]
  },
  {
   "cell_type": "code",
   "execution_count": 19,
   "metadata": {},
   "outputs": [
    {
     "data": {
      "text/plain": [
       "ch       142\n",
       "jp        53\n",
       "ko        51\n",
       "tai       19\n",
       "west      81\n",
       "other     29\n",
       "dtype: int64"
      ]
     },
     "execution_count": 19,
     "metadata": {},
     "output_type": "execute_result"
    }
   ],
   "source": [
    "dataframe.iloc[:,2:].sum(axis=0)"
   ]
  },
  {
   "cell_type": "code",
   "execution_count": 3,
   "metadata": {},
   "outputs": [
    {
     "name": "stdout",
     "output_type": "stream",
     "text": [
      "                                                 url  score     ch     jp  \\\n",
      "0  https://www.ptt.cc/bbs/Food/M.1440654584.A.F2F...      1   True   True   \n",
      "1  https://www.ptt.cc/bbs/Food/M.1391700658.A.04C...      1   True  False   \n",
      "2  https://www.ptt.cc/bbs/Food/M.1446565831.A.71B...      1  False  False   \n",
      "3  https://www.ptt.cc/bbs/Food/M.1426079189.A.6A1...      0  False  False   \n",
      "\n",
      "      ko    tai   west  other  \n",
      "0  False  False  False  False  \n",
      "1  False  False  False  False  \n",
      "2  False  False   True  False  \n",
      "3  False  False  False   True  \n"
     ]
    }
   ],
   "source": [
    "print dataframe.tail()"
   ]
  },
  {
   "cell_type": "code",
   "execution_count": 20,
   "metadata": {},
   "outputs": [
    {
     "data": {
      "text/plain": [
       "(5, 7)"
      ]
     },
     "execution_count": 20,
     "metadata": {},
     "output_type": "execute_result"
    }
   ],
   "source": [
    "dataframe = psql.read_sql(\"SELECT * FROM ArticleTable LIMIT 5\", conn)\n",
    "dataframe.shape"
   ]
  },
  {
   "cell_type": "code",
   "execution_count": 22,
   "metadata": {},
   "outputs": [
    {
     "name": "stdout",
     "output_type": "stream",
     "text": [
      "   articleid                        title      author  \\\n",
      "0      78480      [食記] 小市集李記豆花：TVBS推薦的名店！  yayaya0805   \n",
      "1      78481             [食記] 宜蘭 艾德理法式烘焙坊   austinlee   \n",
      "2      78482       [食記] 日本．大阪／梅田．大起水產回轉壽司   lutherwei   \n",
      "3      78483       [食記] 台北 捷運市政府站 添好運 阪急店    ian60702   \n",
      "4      78484  [食記] 台中 Bungy Jump韓國烤肉 高cp值    nvn83325   \n",
      "\n",
      "                                                 url  \\\n",
      "0  https://www.ptt.cc/bbs/Food/M.1454758593.A.184...   \n",
      "1  https://www.ptt.cc/bbs/Food/M.1454759414.A.12D...   \n",
      "2  https://www.ptt.cc/bbs/Food/M.1454760545.A.B86...   \n",
      "3  https://www.ptt.cc/bbs/Food/M.1454763269.A.531...   \n",
      "4  https://www.ptt.cc/bbs/Food/M.1454765377.A.97A...   \n",
      "\n",
      "                       date  \\\n",
      "0  Sat Feb  6 19:36:30 2016   \n",
      "1  Sat Feb  6 19:50:10 2016   \n",
      "2  Sat Feb  6 20:09:03 2016   \n",
      "3  Sat Feb  6 20:54:24 2016   \n",
      "4  Sat Feb  6 21:29:34 2016   \n",
      "\n",
      "                                             context                  latlon  \n",
      "0  作者yayaya0805 (yayaya)看板Food標題[食記] 小市集李記豆花：TVBS...  24.5635773,120.8174711  \n",
      "1  作者austinlee (財務自由享樂人生)看板Food標題[食記] 宜蘭 艾德理法式烘焙坊...  24.7418478,121.7474344  \n",
      "2  作者lutherwei (Mr.白)看板Food標題[食記] 日本．大阪／梅田．大起水產回轉...  34.7026007,135.5010344  \n",
      "3  作者ian60702 (逸想天開)看板Food標題[食記] 台北 捷運市政府站 添好運 阪急...  25.0408461,121.5653964  \n",
      "4  作者nvn83325 (珮筑)看板Food標題[食記] 台中 Bungy Jump韓國烤肉 ...   24.1669149,120.637587  \n"
     ]
    }
   ],
   "source": [
    "print (dataframe.tail())"
   ]
  },
  {
   "cell_type": "markdown",
   "metadata": {},
   "source": [
    "## Let's perform chinese word split with jieba\n",
    "installation:\n",
    "```\n",
    "pip install jieba\n",
    "```"
   ]
  },
  {
   "cell_type": "code",
   "execution_count": 23,
   "metadata": {
    "collapsed": true
   },
   "outputs": [],
   "source": [
    "import jieba"
   ]
  },
  {
   "cell_type": "code",
   "execution_count": 25,
   "metadata": {},
   "outputs": [
    {
     "name": "stdout",
     "output_type": "stream",
     "text": [
      "Full Mode: 我/ 来到/ 北京/ 清华/ 清华大学/ 华大/ 大学\n"
     ]
    }
   ],
   "source": [
    "seg_list = jieba.cut(\"我来到北京清华大学\", cut_all=True)\n",
    "print(\"Full Mode: \" + \"/ \".join(seg_list))  # 全模式"
   ]
  },
  {
   "cell_type": "code",
   "execution_count": 33,
   "metadata": {},
   "outputs": [
    {
     "data": {
      "text/plain": [
       "['我', '来到', '北京', '清华大学']"
      ]
     },
     "execution_count": 33,
     "metadata": {},
     "output_type": "execute_result"
    }
   ],
   "source": [
    "seg_list = jieba.cut(\"我来到北京清华大学\")\n",
    "[i for i in seg_list] # way to extract terms from generator."
   ]
  },
  {
   "cell_type": "code",
   "execution_count": 43,
   "metadata": {},
   "outputs": [
    {
     "name": "stdout",
     "output_type": "stream",
     "text": [
      "[食記] 小市集李記豆花：TVBS推薦的名店！\n"
     ]
    },
    {
     "data": {
      "text/plain": [
       "' 食記  小市集李記豆花 TVBS推薦的名店 '"
      ]
     },
     "execution_count": 43,
     "metadata": {},
     "output_type": "execute_result"
    }
   ],
   "source": [
    "import re\n",
    "\n",
    "def remove_punct(x,debug=False):\n",
    "    if debug:\n",
    "        print(x)\n",
    "    return re.sub('[：！\\[\\]]',' ',x)\n",
    "\n",
    "remove_punct(dataframe.title[0],debug=True)"
   ]
  },
  {
   "cell_type": "code",
   "execution_count": 44,
   "metadata": {},
   "outputs": [
    {
     "data": {
      "text/plain": [
       "[' ', '食記', ' ', ' ', '小', '市集', '李記', '豆花', ' ', 'TVBS', '推薦', '的', '名店', ' ']"
      ]
     },
     "execution_count": 44,
     "metadata": {},
     "output_type": "execute_result"
    }
   ],
   "source": [
    "seg_list = jieba.cut(remove_punct(dataframe.title[0]))\n",
    "[i for i in seg_list] # way to extract terms from generator."
   ]
  },
  {
   "cell_type": "markdown",
   "metadata": {},
   "source": [
    "## StoreTable Example"
   ]
  },
  {
   "cell_type": "code",
   "execution_count": 4,
   "metadata": {},
   "outputs": [
    {
     "data": {
      "text/plain": [
       "(36830, 5)"
      ]
     },
     "execution_count": 4,
     "metadata": {},
     "output_type": "execute_result"
    }
   ],
   "source": [
    "dataframe = psql.read_sql(\"SELECT * FROM StoreTable\", conn)\n",
    "dataframe.shape"
   ]
  },
  {
   "cell_type": "code",
   "execution_count": 5,
   "metadata": {},
   "outputs": [
    {
     "name": "stdout",
     "output_type": "stream",
     "text": [
      "       storeid                                  address  \\\n",
      "36825    96817   Busan, Jung-gu, Gwangbok-ro 49beon-gil   \n",
      "36826    96819            27 E 5th Ave, Eugene OR 97401   \n",
      "36827    96820  120 Lombard Avenue, Toronto, ON M5A 4J6   \n",
      "36828    96821    30 Rockefeller Plaza, Concourse Level   \n",
      "36829    96822      Geirsgata 8, Reykjavik 101, Iceland   \n",
      "\n",
      "                     storename                   latlon  count  \n",
      "36825                   豆田裡嫩豆腐   35.1013195,129.0303949      1  \n",
      "36826  Oregon Electric Station  44.0545583,-123.0922399      1  \n",
      "36827        Fahrenheit Coffee     43.652532,-79.373042      1  \n",
      "36828                   Lady M   40.7587402,-73.9786736      1  \n",
      "36829                     None   64.1505357,-21.9439663      1  \n"
     ]
    }
   ],
   "source": [
    "print dataframe.tail()"
   ]
  },
  {
   "cell_type": "code",
   "execution_count": 6,
   "metadata": {},
   "outputs": [
    {
     "data": {
      "text/plain": [
       "(109387, 5)"
      ]
     },
     "execution_count": 6,
     "metadata": {},
     "output_type": "execute_result"
    }
   ],
   "source": [
    "dataframe = psql.read_sql(\"SELECT * FROM PushTable\", conn)\n",
    "dataframe.shape"
   ]
  },
  {
   "cell_type": "code",
   "execution_count": 7,
   "metadata": {},
   "outputs": [
    {
     "name": "stdout",
     "output_type": "stream",
     "text": [
      "        pushid                                                url      userid  \\\n",
      "109382  112332  https://www.ptt.cc/bbs/Food/M.1495611347.A.439...      Lolira   \n",
      "109383  112333  https://www.ptt.cc/bbs/Food/M.1495653217.A.217...     sawx223   \n",
      "109384  112334  https://www.ptt.cc/bbs/Food/M.1496376258.A.765...     nakatsu   \n",
      "109385  112335  https://www.ptt.cc/bbs/Food/M.1497013975.A.483...     Rue2811   \n",
      "109386  112336  https://www.ptt.cc/bbs/Food/M.1497063823.A.8A5...  stabber111   \n",
      "\n",
      "       pushtag                                 pushcontext  \n",
      "109382      推                                  看了好想去，好像很不錯  \n",
      "109383      推                           很少在唐人街吃，都去box hill  \n",
      "109384      →                   這些比較像觀光客的推薦吧！我在地朋友平常不會去吃這些  \n",
      "109385      推   西瓜蛋糕真的好吃    然後bourke street bakery 的ginger  \n",
      "109386      推                                       有名的連鎖店  \n"
     ]
    }
   ],
   "source": [
    "print dataframe.tail()"
   ]
  },
  {
   "cell_type": "code",
   "execution_count": null,
   "metadata": {
    "collapsed": true
   },
   "outputs": [],
   "source": []
  }
 ],
 "metadata": {
  "anaconda-cloud": {},
  "kernelspec": {
   "display_name": "Python 3",
   "language": "python",
   "name": "python3"
  },
  "language_info": {
   "codemirror_mode": {
    "name": "ipython",
    "version": 3
   },
   "file_extension": ".py",
   "mimetype": "text/x-python",
   "name": "python",
   "nbconvert_exporter": "python",
   "pygments_lexer": "ipython3",
   "version": "3.6.1"
  }
 },
 "nbformat": 4,
 "nbformat_minor": 1
}
